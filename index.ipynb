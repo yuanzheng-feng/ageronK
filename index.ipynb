{
 "cells": [
  {
   "cell_type": "markdown",
   "metadata": {},
   "source": [
    "# Machine Learning Notebooks\n",
    "\n",
    "*Welcome to the Machine Learning Notebooks!*\n",
    "\n",
    "## Prerequisites\n",
    "### To understand\n",
    "* **Python** – you don't need to be an expert python programmer, but you do need to know the basics. If you don't, the official [Python tutorial](https://docs.python.org/3/tutorial/) is a good place to start.\n",
    "* **Scientific Python** – We will be using a few popular python libraries, in particular NumPy, matplotlib and pandas. If you are not familiar with these libraries, you should probably start by going through the tutorials in the Tools section below (especially NumPy).\n",
    "* **Math** – We will also use some notions of Linear Algebra, Calculus, Statistics and Probability theory. You should be able to follow along if you learned these in the past as it won't be very advanced, but if you don't know about these topics or you need a refresher then go through the appropriate introduction in the Math section below.\n",
    "\n",
    "### To run the examples\n",
    "* **Jupyter** – These notebooks are based on Jupyter. If you just plan to read without running any code, there's really nothing more to know, just keep reading! But if you want to experiment with the code examples you need to:\n",
    "    * open these notebooks in Jupyter. If you clicked on the \"launch binder\" button in github or followed the Installation instructions, then you are good to go. If not you will need to go back to the project [home page](https://github.com/ageron/ml-notebooks/) and click on \"launch binder\" or follow the installation instructions.\n",
    "    * learn how to use Jupyter. Start the User Interface Tour from the Help menu.\n",
    "\n",
    "### To activate extensions\n",
    "* If this is an interactive session (see above), you may want to turn on a few Jupyter extensions by going to the [Extension Configuration](../nbextensions/) page. In particular the \"*table of contents (2)*\" extension is quite useful.\n",
    "\n",
    "## Chapters\n",
    "1. [Fundamentals](fundamentals.ipynb)\n",
    "2. [End-to-end project](end_to_end_project.ipynb)\n",
    "3. [Classification](classification.ipynb)\n",
    "4. [Training Linear Models](training_linear_models.ipynb)\n",
    "\n",
    "More explanations and chapters coming soon.\n",
    "\n",
    "## Scientific Python tutorials\n",
    "* [NumPy](tools_numpy.ipynb)\n",
    "* [Matplotlib](tools_matplotlib.ipynb)\n",
    "* [Pandas](tools_pandas.ipynb)\n",
    "\n",
    "## Math tutorials\n",
    "* [Linear Algebra](math_linear_algebra.ipynb)\n",
    "* Calculus (coming soon)"
   ]
  }
 ],
 "metadata": {
  "kernelspec": {
   "display_name": "Python 2",
   "language": "python",
   "name": "python2"
  },
  "language_info": {
   "codemirror_mode": {
    "name": "ipython",
    "version": 2
   },
   "file_extension": ".py",
   "mimetype": "text/x-python",
   "name": "python",
   "nbconvert_exporter": "python",
   "pygments_lexer": "ipython2",
   "version": "2.7.11"
  },
  "toc": {
   "toc_cell": false,
   "toc_number_sections": true,
   "toc_threshold": 6,
   "toc_window_display": false
  }
 },
 "nbformat": 4,
 "nbformat_minor": 0
}
